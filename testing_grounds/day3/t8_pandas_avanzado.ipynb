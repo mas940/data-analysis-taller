{
 "cells": [
  {
   "cell_type": "markdown",
   "id": "c22e3ef1-1de6-4194-b6bb-73039008abbe",
   "metadata": {
    "slideshow": {
     "slide_type": "slide"
    }
   },
   "source": [
    "<font size=6>\n",
    "\n",
    "<b>Curso de Análisis de Datos con Python</b>\n",
    "</font>\n",
    "\n",
    "<font size=4>\n",
    "    \n",
    "Curso de formación interna, CIEMAT. <br/>\n",
    "Madrid, Junio de 2023\n",
    "\n",
    "Antonio Delgado Peris (Cristina Labajo Villaverde)\n",
    "</font>\n",
    "\n",
    "https://github.com/andelpe/curso-python-analisis-datos\n",
    "\n",
    "<br/>"
   ]
  },
  {
   "cell_type": "markdown",
   "id": "974729b3-188d-4f06-b113-4d3eddaf8aa9",
   "metadata": {},
   "source": [
    "# Tema 8 - Manipulación de datos avanzada con Pandas"
   ]
  },
  {
   "cell_type": "markdown",
   "id": "15b18d3f-dc61-4424-aaf6-ce493cc97d9b",
   "metadata": {},
   "source": [
    "## Objetivos\n",
    "\n",
    "- Profundizar en el análisis y manipulación de datos con la librería Pandas.\n",
    "\n",
    "- Ver maneras más sofisticadas de seleccionar y filtrar los datos de un DataFrame.\n",
    "\n",
    "- Introducir el concepto de multi-índice.\n",
    "\n",
    "- Conocer nuevas formas de transformación de un DataFrame.\n",
    "\n",
    "- Mejorar nuestras capacidades de gestión de datos con referencias temporales."
   ]
  },
  {
   "cell_type": "markdown",
   "id": "d0b198b9-191b-4035-b00b-93d27d0ce73d",
   "metadata": {},
   "source": [
    "## Vistas y copias\n",
    "\n",
    "En el tema 4 vimos que algunas operaciones de NumPy podían devolver objetos _vista_ a un ndarray existente, en lugar de un nuevo objeto (copia). Las reglas eran bastante sencillas: las operaciones de _slice_ con índices sencillos retornan una vista, y las de índice complejo (con más de un elemento, o por máscara) retornan copias.\n",
    "\n",
    "En Pandas, sin embargo, es muy difícil saber si una operación de selección/indexado de un DataFrame va a devolver una vista o una copia (depende de muchas cosas, y no está bien definido).\n",
    "\n",
    "Eso nos lleva a sugerir que, en general, no asumamos ni una cosa ni la otra, y si queremos estar seguro que una subselección de un DataFrame es una copia, usemos explícitamente el método `copy`."
   ]
  },
  {
   "cell_type": "code",
   "execution_count": null,
   "id": "52e4eec8-dd81-4866-b50b-c8862645f020",
   "metadata": {},
   "outputs": [],
   "source": [
    "import pandas as pd\n",
    "import numpy as np"
   ]
  },
  {
   "cell_type": "code",
   "execution_count": null,
   "id": "76f15523-db11-4106-bcf3-98e53bc6b9da",
   "metadata": {},
   "outputs": [],
   "source": [
    "df = pd.DataFrame({'a':[1, 2], 'b':[3, 4]})\n",
    "df"
   ]
  },
  {
   "cell_type": "code",
   "execution_count": null,
   "id": "a19c9abb-72cd-4d60-8f8c-740e4c646952",
   "metadata": {},
   "outputs": [],
   "source": [
    "my_slice = df.iloc[1:,]\n",
    "my_slice"
   ]
  },
  {
   "cell_type": "code",
   "execution_count": null,
   "id": "b5a8ec5a-51f9-4743-abc0-76e84e52bee5",
   "metadata": {},
   "outputs": [],
   "source": [
    "my_slice.iloc[0, 1] = 99\n",
    "my_slice"
   ]
  },
  {
   "cell_type": "code",
   "execution_count": null,
   "id": "4971871f-cfaf-4888-8158-f2d272998c08",
   "metadata": {},
   "outputs": [],
   "source": [
    "df"
   ]
  },
  {
   "cell_type": "code",
   "execution_count": null,
   "id": "8e61cdc3-4b51-4cfb-9841-26059de5460e",
   "metadata": {},
   "outputs": [],
   "source": [
    "my_slice.iloc[0, 0] = 10.4\n",
    "display(my_slice)\n",
    "display(df)"
   ]
  },
  {
   "cell_type": "markdown",
   "id": "b17fc64b-026d-47a2-99f7-8e0d4a2b10b9",
   "metadata": {},
   "source": [
    "Como vemos, en un caso un cambio en `my_slice` produce un cambio en `df`, y en el otro no.\n",
    "\n",
    "Como también hemos podido apreciar en los ejemplos anteriores, los desarrolladores de Pandas son conscientes de este problema, han establecido un mecanismo de alerta. Siempre que se detecta que se quiere modificar una subselección de un DataFrame se genera un `SettingWithCopy Warning`.\n",
    "\n",
    "Si usamos `copy`, al menos estaremos seguros de lo que estamos haciendo."
   ]
  },
  {
   "cell_type": "code",
   "execution_count": null,
   "id": "ffe36967-f253-46be-9f95-75f0bb21b2cc",
   "metadata": {},
   "outputs": [],
   "source": [
    "my_slice = df.iloc[1:,].copy()\n",
    "my_slice"
   ]
  },
  {
   "cell_type": "code",
   "execution_count": null,
   "id": "17a7d134-1226-41ed-939c-dda87f6069dc",
   "metadata": {},
   "outputs": [],
   "source": [
    "my_slice.iloc[0, 0] = 1000\n",
    "my_slice"
   ]
  },
  {
   "cell_type": "code",
   "execution_count": null,
   "id": "fdcf5764-1c90-4fd3-9ab7-68031a3d32c1",
   "metadata": {},
   "outputs": [],
   "source": [
    "df"
   ]
  },
  {
   "cell_type": "code",
   "execution_count": null,
   "id": "094d86bb-3465-4db8-8673-9d0c537989ea",
   "metadata": {},
   "outputs": [],
   "source": [
    "my_slice.iloc[0, 1] = 10.4\n",
    "display(my_slice)\n",
    "display(df)"
   ]
  },
  {
   "cell_type": "markdown",
   "id": "990a1077-380d-494d-ac58-4fd0163c3f70",
   "metadata": {},
   "source": [
    "<br/>\n",
    "\n",
    "Debemos resaltar que en algunas ocasiones este problema se manifiesta en operaciones más compactas en que lo queremos precisamente es modificar el DataFrame original, pero no ocurre (porque estamos modificando una copia).\n",
    "\n",
    "Esto sucede cuando encadenamos varias operaciones de indexado en una asignación (_index chaining_). Por ejemplo:"
   ]
  },
  {
   "cell_type": "code",
   "execution_count": null,
   "id": "8f3b617f-7f37-4b0a-8fe9-de81cd845218",
   "metadata": {},
   "outputs": [],
   "source": [
    "df = pd.DataFrame({'a':[1, 2], 'b':[3, 4]})\n",
    "display(df)\n",
    "df[df['b'] > 3]"
   ]
  },
  {
   "cell_type": "code",
   "execution_count": null,
   "id": "aba3a6ba-8fc0-4225-9902-4c6d190452e6",
   "metadata": {},
   "outputs": [],
   "source": [
    "df[df['b'] > 3]['a'] = 100\n",
    "display(df)"
   ]
  },
  {
   "cell_type": "code",
   "execution_count": null,
   "id": "8ef1b2dc-5d8a-402b-8476-385ce4a39a70",
   "metadata": {},
   "outputs": [],
   "source": [
    "(df[df['b'] > 3])['a'] = 100\n",
    "display(df)"
   ]
  },
  {
   "cell_type": "markdown",
   "id": "c375de3b-95b0-4d38-9c06-c48cb96913d1",
   "metadata": {},
   "source": [
    "En este caso, la solución pasa por usar un único indexado en la asignación, en lugar de encadenar varios:"
   ]
  },
  {
   "cell_type": "code",
   "execution_count": null,
   "id": "c36c13a4-342f-4ab1-b8df-c31ae39d5bf6",
   "metadata": {},
   "outputs": [],
   "source": [
    "df.loc[df['b'] > 3, 'a'] = 100\n",
    "df"
   ]
  },
  {
   "cell_type": "markdown",
   "id": "51d31485-39b3-41e4-8e65-4cded99c167c",
   "metadata": {},
   "source": [
    "**En resumen:**\n",
    "\n",
    "- Si queremos modificar el DataFrame original debemos utilizar un indexado único (como en el último ejemplo).\n",
    "- Si lo queremos es tener una copia independiente del original (y asegurar que no se modifica este), lo más conveniente es utilizar el método `copy` explícitamente.\n",
    "- Si nos da igual, podemos simplemente ignorar el Warning de Python"
   ]
  },
  {
   "cell_type": "markdown",
   "id": "1024f7c5-f498-4295-ba6c-c86e8cfede51",
   "metadata": {},
   "source": [
    "## Multi-índices\n",
    "Los multi-índices (o índices jerárquicos) permiten tratar datos como si tuvieran un número arbitrario de dimensiones (en lugar de solo 2). Se puede considerar que un multi-índice es una serie ordenada de tuplas, donde cada tupla es única.\n",
    "\n",
    "Las operaciones con índice jerárquico están sujetas a las mismas reglas de alineado que con índice simple."
   ]
  },
  {
   "cell_type": "markdown",
   "id": "da120ca7-15eb-42fb-a328-7fb182879063",
   "metadata": {},
   "source": [
    "Por ejemplo, podemos crear un multi-índice explícitamente de una serie de tuplas."
   ]
  },
  {
   "cell_type": "code",
   "execution_count": null,
   "id": "5455a340-d918-48d2-ae65-7f1c3e4b158b",
   "metadata": {},
   "outputs": [],
   "source": [
    "# From tuples\n",
    "tuples = [(\"España\", \"Madrid\"), (\"España\", \"Valencia\"), (\"España\", \"Sevilla\"),\n",
    "          (\"Francia\", \"Paris\"), (\"Francia\", \"Lyon\")]\n",
    "\n",
    "ciudades = pd.MultiIndex.from_tuples(tuples, names=[\"Pais\", \"Ciudad\"])\n",
    "\n",
    "s = pd.Series([100, 125, 90, 160, 50], index=ciudades)\n",
    "s"
   ]
  },
  {
   "cell_type": "markdown",
   "id": "d0d24eae-cf2f-41a3-936a-8fed0123b6bf",
   "metadata": {},
   "source": [
    "<br/>\n",
    "\n",
    "O generando una combinación de elementos, todos con todos (i.e.: el índice es completo en todos los niveles)."
   ]
  },
  {
   "cell_type": "code",
   "execution_count": null,
   "id": "5db4f9c8-b362-4625-a716-205d1d7203b6",
   "metadata": {},
   "outputs": [],
   "source": [
    "# From cross product \n",
    "iterables = [[\"1º\", \"2º\"], [\"A\", \"B\", \"C\"]]\n",
    "index = pd.MultiIndex.from_product(iterables, names=[\"Curso\", \"Clase\"])\n",
    "\n",
    "cols = ('c1', 'c2', 'c3')\n",
    "cole = pd.DataFrame(np.arange(18).reshape(6,3), index=index, columns=cols)\n",
    "cole"
   ]
  },
  {
   "cell_type": "markdown",
   "id": "f9ea4b88-4c00-4af2-b179-819f28d82ad4",
   "metadata": {},
   "source": [
    "<br/>\n",
    "\n",
    "Los índices jerárquicos también pueden usarse en el otro eje (columnas), aunque es menos común."
   ]
  },
  {
   "cell_type": "code",
   "execution_count": null,
   "id": "a52a35b8-dc11-4323-8e91-a9348a57dc77",
   "metadata": {},
   "outputs": [],
   "source": [
    "# Multi-index on the columns axis\n",
    "df = pd.DataFrame(np.arange(18).reshape(3,6), columns=index, index=cols)\n",
    "df"
   ]
  },
  {
   "cell_type": "code",
   "execution_count": null,
   "id": "a92973d6-5213-44ad-bf20-2dddcd71d556",
   "metadata": {},
   "outputs": [],
   "source": [
    "# Volvemos a cambiar los ejes \n",
    "cole = df.T\n",
    "cole"
   ]
  },
  {
   "cell_type": "markdown",
   "id": "8fb9e1ff-c2e5-4bac-94f0-5c8fe88be92c",
   "metadata": {},
   "source": [
    "### Niveles\n",
    "Observando el índice, se aprecia cómo está construido por una serie de tuplas únicas. La posición en estas tuplas define una jerárquía."
   ]
  },
  {
   "cell_type": "code",
   "execution_count": null,
   "id": "8fdf3a03-eba6-4612-b5cc-0b290db32d32",
   "metadata": {},
   "outputs": [],
   "source": [
    "index"
   ]
  },
  {
   "cell_type": "code",
   "execution_count": null,
   "id": "31acd488-1d9a-4bdc-b838-f11c8db7b6df",
   "metadata": {},
   "outputs": [],
   "source": [
    "index.to_list()"
   ]
  },
  {
   "cell_type": "markdown",
   "id": "32233da3-4782-4c8d-9f6f-fb16ad5717bb",
   "metadata": {},
   "source": [
    "<br/>\n",
    "\n",
    "El multi-índice se estructura en niveles, que pueden ser accedidos, e incluso manipulados."
   ]
  },
  {
   "cell_type": "code",
   "execution_count": null,
   "id": "5283ac69-33df-4ff5-83e3-89215abc4e62",
   "metadata": {},
   "outputs": [],
   "source": [
    "index.levels"
   ]
  },
  {
   "cell_type": "code",
   "execution_count": null,
   "id": "a58ae5a1-3ff2-44d5-b1f7-b010d020e301",
   "metadata": {},
   "outputs": [],
   "source": [
    "index.levels[1]"
   ]
  },
  {
   "cell_type": "code",
   "execution_count": null,
   "id": "3c471625-fff0-4607-97d5-39cc4a6f02a9",
   "metadata": {},
   "outputs": [],
   "source": [
    "df2 = cole.reorder_levels(['Clase', 'Curso'])\n",
    "df2"
   ]
  },
  {
   "cell_type": "markdown",
   "id": "04f05024-a44f-430c-9a82-605b06b60efc",
   "metadata": {},
   "source": [
    "Podemos ordenar en base al nuevo índice, para ver los datos más ordenados."
   ]
  },
  {
   "cell_type": "code",
   "execution_count": null,
   "id": "84df3c6f-4117-4018-ac65-036b5d673d01",
   "metadata": {},
   "outputs": [],
   "source": [
    "df2.sort_index()"
   ]
  },
  {
   "cell_type": "markdown",
   "id": "f6517194-92fb-4429-88d0-32b21eb87899",
   "metadata": {},
   "source": [
    "<br/>\n",
    "\n",
    "También existen métodos para promocionar columnas a índice o al revés. Se debe resaltar que las búsquedas en un índice son más rápidas que en una columna normal."
   ]
  },
  {
   "cell_type": "code",
   "execution_count": null,
   "id": "dbbb1bd1-a0e0-49c3-ac26-fc479a9fa5f5",
   "metadata": {},
   "outputs": [],
   "source": [
    "cole"
   ]
  },
  {
   "cell_type": "code",
   "execution_count": null,
   "id": "b0a4dc5f-1fd4-4173-a293-f18c03df148e",
   "metadata": {},
   "outputs": [],
   "source": [
    "cole.reset_index('Clase', inplace=True)\n",
    "cole"
   ]
  },
  {
   "cell_type": "code",
   "execution_count": null,
   "id": "4d4fa84d-cbaf-4fd9-bfea-615b539804d0",
   "metadata": {},
   "outputs": [],
   "source": [
    "cole.set_index('Clase', append=True, inplace=True)\n",
    "cole"
   ]
  },
  {
   "cell_type": "markdown",
   "id": "2436d3ee-7f02-468b-82ac-b1ce9c62aaf3",
   "metadata": {},
   "source": [
    "<p/>\n",
    "\n",
    "NOTA: Se se usa el argumento `drop=True`, el índice eliminado, no se promociona a columna, sino que se descarta."
   ]
  },
  {
   "cell_type": "code",
   "execution_count": null,
   "id": "5a431d20-3c97-4170-b441-ba9efec932b0",
   "metadata": {},
   "outputs": [],
   "source": [
    "temp = cole.reset_index(drop=True)\n",
    "temp"
   ]
  },
  {
   "cell_type": "markdown",
   "id": "11c6c4ed-549c-4754-8b01-9c076ec89b02",
   "metadata": {},
   "source": [
    "Esto puede ser útil, por ejemplo, para descartar un índice poco útil, y generar uno numérico secuencial."
   ]
  },
  {
   "cell_type": "code",
   "execution_count": null,
   "id": "5ad9eaa3-98d3-4f22-9f27-d2a65f788d88",
   "metadata": {},
   "outputs": [],
   "source": [
    "temp = temp.filter(items=[2,4], axis=0)\n",
    "temp"
   ]
  },
  {
   "cell_type": "code",
   "execution_count": null,
   "id": "50b81138-1aba-45f2-a1da-e172c26b4779",
   "metadata": {},
   "outputs": [],
   "source": [
    "temp.reset_index(drop=True)"
   ]
  },
  {
   "cell_type": "markdown",
   "id": "4dbb8b32-479c-4c8d-b330-c80cd5d36162",
   "metadata": {},
   "source": [
    "### Indexado y selección con multi-índices\n",
    "\n",
    "Los mismos métodos que vimos con índices no-jerárquicos pueden ser usados con multi-índices, aunque algunas operaciones (_slice_) son algo más complejas.\n",
    "\n",
    "Recordemos los principales métodos de indexado:\n",
    "\n",
    "- Selección de una columna con `df[colName]` o `df.colName`.\n",
    "- Selección de varias columnas con `df[[col1, col2...]]`.\n",
    "- Selección de filas con `df[slice]`, usando posición o etiquetas.\n",
    "- Selección de filas y columnas por etiqueta, usando `df.loc`.\n",
    "- Selección de filas y columnas por posición, con el método `df.iloc`.\n",
    "- Filtrado por máscara"
   ]
  },
  {
   "cell_type": "code",
   "execution_count": null,
   "id": "5dcdcfc3-67dc-4bfc-ab67-1d0bf0af66f5",
   "metadata": {},
   "outputs": [],
   "source": [
    "# Selección de columnas\n",
    "# NOTA: Recordemos que para selección múltiple, usamos una lista\n",
    "#       Las tuplas se interpretan como claves jerárquicas del índice\n",
    "cole[['c1', 'c3']]"
   ]
  },
  {
   "cell_type": "code",
   "execution_count": null,
   "id": "de9a65b5-f16d-438c-b742-27cfc9e1a749",
   "metadata": {},
   "outputs": [],
   "source": [
    "# Slice en filas desde 1º-B e incluyendo todo 2º\n",
    "cole[('1º', 'B'):'2º']"
   ]
  },
  {
   "cell_type": "code",
   "execution_count": null,
   "id": "52bc6111-14d2-4ee9-8df5-52aa042ea47e",
   "metadata": {},
   "outputs": [],
   "source": [
    "# O usando posición del índice\n",
    "cole[1:4]"
   ]
  },
  {
   "cell_type": "code",
   "execution_count": null,
   "id": "b378e204-1723-4c7b-abb7-955b69d23ad2",
   "metadata": {},
   "outputs": [],
   "source": [
    "# .loc con etiquetas \n",
    "cole.loc[\"1º\"]"
   ]
  },
  {
   "cell_type": "code",
   "execution_count": null,
   "id": "e01eda36-b405-45c3-8c68-4bdfc3b04215",
   "metadata": {},
   "outputs": [],
   "source": [
    "cole.loc[(\"1º\", \"B\"), \"c2\"]"
   ]
  },
  {
   "cell_type": "code",
   "execution_count": null,
   "id": "ee02e1f4-0f8b-48d5-a799-bea1af9689b2",
   "metadata": {},
   "outputs": [],
   "source": [
    "# Slice en índice de 1ºB a 2ºB, para columnas de c1 a c2\n",
    "cole.loc[('1º', 'B'):('2º', 'B'), 'c1':'c2']"
   ]
  },
  {
   "cell_type": "markdown",
   "id": "973e087e-6ed0-4aef-9ae2-93460305cf5d",
   "metadata": {},
   "source": [
    "Para realizar _slices_ en diferentes niveles, podemos usar un objeto `IndexSlice`.\n",
    "\n",
    "Por ejemplo, para recuperar todos los grupos `B`, independientemente del curso."
   ]
  },
  {
   "cell_type": "code",
   "execution_count": null,
   "id": "e25faead-d768-42bb-9fa1-e7298134d41a",
   "metadata": {},
   "outputs": [],
   "source": [
    "idx = pd.IndexSlice\n",
    "\n",
    "cole.loc[idx[:, 'B'], ['c1', 'c3']]"
   ]
  },
  {
   "cell_type": "markdown",
   "id": "42b30dda-00d3-4721-86c3-498fecc96d44",
   "metadata": {},
   "source": [
    "Finalmente, también podemos filtrar _valores_ (no el índice) con una máscara booleana, a la manera habitual, o combinándolo con con el `Indexslice`."
   ]
  },
  {
   "cell_type": "code",
   "execution_count": null,
   "id": "2b8b2410-1139-429c-9b6b-fb6699b378f7",
   "metadata": {},
   "outputs": [],
   "source": [
    "mask = cole['c2'] > 7\n",
    "cole[mask]"
   ]
  },
  {
   "cell_type": "code",
   "execution_count": null,
   "id": "1e385597-974e-464d-bf67-b51b252064c0",
   "metadata": {},
   "outputs": [],
   "source": [
    "cole.loc[idx[mask, 'C'], 'c2']"
   ]
  },
  {
   "cell_type": "markdown",
   "id": "2703f03a-d5ef-4169-b096-5ea31e0ced30",
   "metadata": {},
   "source": [
    "### Otros métodos para selección de datos\n",
    "\n",
    "Veamos algunos otro métodos para seleccionar elementos de un DataFrame (con índice sencillo o jerárquico)."
   ]
  },
  {
   "cell_type": "markdown",
   "id": "4e8e662f-04a5-425c-b21e-46945f7a9e62",
   "metadata": {},
   "source": [
    "El método `isin` permite filtrar por _valores_ que se encuentren en una lista dada, o, del mismo modo, por los contenidos de un índice."
   ]
  },
  {
   "cell_type": "code",
   "execution_count": null,
   "id": "b84fb31a-d75a-49e6-9649-89f7460d0f50",
   "metadata": {},
   "outputs": [],
   "source": [
    "s = pd.Series({'b': 4, 'a': 9 , 'c': 10})\n",
    "s[s.isin([2, 4, 6])]"
   ]
  },
  {
   "cell_type": "code",
   "execution_count": null,
   "id": "82ff3c48-2dc7-4368-bf4e-ad9cbb7991dd",
   "metadata": {},
   "outputs": [],
   "source": [
    "mask = cole.isin(range(3, 10))\n",
    "cole[mask]"
   ]
  },
  {
   "cell_type": "code",
   "execution_count": null,
   "id": "8d61b9c0-518d-4d7b-9b3e-4633279d01c0",
   "metadata": {},
   "outputs": [],
   "source": [
    "grupos = [('1º', 'B'), ('2º', 'C')]\n",
    "cole[cole.index.isin(grupos)]"
   ]
  },
  {
   "cell_type": "markdown",
   "id": "5a83ebde-7a67-4347-bf6d-4cb968106fd5",
   "metadata": {},
   "source": [
    "El método `query` puede usarse para filtrar en base a condiciones, igual que se hace con máscaras booleanas, pero de manera más concisa. Por ejemplo, las dos líneas siguientes son equivalentes:\n",
    "\n",
    "```python\n",
    "df[(df['a'] < df['b']) & (df['b'] < df['c'])]\n",
    "\n",
    "df.query('(a < b) & (b < c)')\n",
    "```"
   ]
  },
  {
   "cell_type": "markdown",
   "id": "aa7b22c7-0d7d-4d20-b543-fde2fbd411b0",
   "metadata": {},
   "source": [
    "Se pueden introducir condiciones en los valores (columnas) y también en los índices."
   ]
  },
  {
   "cell_type": "code",
   "execution_count": null,
   "id": "119e6b77-e19e-4232-a88a-f30790f650a9",
   "metadata": {},
   "outputs": [],
   "source": [
    "cole.query('(c3 > 13) & (Clase==\"B\")')"
   ]
  },
  {
   "cell_type": "markdown",
   "id": "182c58e8-3a29-467a-9702-25845d91ae40",
   "metadata": {},
   "source": [
    "<div style=\"background-color:powderblue;\">\n",
    "\n",
    "**EJERCICIO e8_1:** \n",
    "\n",
    "Cargar los datos de `data/WordsByCharacter.csv` en un DataFrame en el que todas las columnas forman parte de un multiíndice, excepto `Words` (para ello podemos usar `index_col` con `read_csv`, o usar el método `set_index` a posteriori).\n",
    "    \n",
    "A partir de este DataFrame, contestar a las siguientes preguntas:\n",
    "    \n",
    "- ¿Qué personajes hablan en el primer capítulo de _The Fellowship Of The Ring_? ¿Cuántas palabras cada uno?\n",
    "- ¿Quiénes son los 3 primeros elfos en hablar en esa misma película? (Avanzado: ¿Y los primeros 5?)\n",
    "- ¿Cuánto hablan Gandalf y Saruman en cada capítulo de _The Two Towers_?"
   ]
  },
  {
   "cell_type": "markdown",
   "id": "f571a066-993a-4375-b897-fa7d6fd5c129",
   "metadata": {},
   "source": [
    "## Operaciones de agrupación\n",
    "Una tarea habitual a realizar con nuestros datos es agruparlos en función de determinados criterios, y realizar operaciones con los grupos resultantes."
   ]
  },
  {
   "cell_type": "markdown",
   "id": "13f80a29-7499-45bb-8f32-ca617bfd95a8",
   "metadata": {},
   "source": [
    "### groupby \n",
    "La función `groupby` permite agrupar los elementos de un DataFrame en función de criterios en los valores de columnas o índice."
   ]
  },
  {
   "cell_type": "code",
   "execution_count": null,
   "id": "336baf00-a615-4ea1-a507-fcfe3fd90096",
   "metadata": {},
   "outputs": [],
   "source": [
    "cole"
   ]
  },
  {
   "cell_type": "code",
   "execution_count": null,
   "id": "2c475f3a-eac4-439f-bd9e-b8b1ce5d23e3",
   "metadata": {},
   "outputs": [],
   "source": [
    "# Agrupamos según uno de los índices\n",
    "groups = cole.groupby('Clase')\n",
    "print(groups) "
   ]
  },
  {
   "cell_type": "code",
   "execution_count": null,
   "id": "3545e34d-8001-4561-98fb-3db2a690eb2b",
   "metadata": {},
   "outputs": [],
   "source": [
    "groups.get_group('A')"
   ]
  },
  {
   "cell_type": "code",
   "execution_count": null,
   "id": "c0d46a94-54e2-41df-a288-bcdae405f88a",
   "metadata": {},
   "outputs": [],
   "source": [
    "for name, group in groups: \n",
    "    print('NAME:', name)\n",
    "    print()\n",
    "    print('GROUP:\\n', group, '\\n---------------------\\n')"
   ]
  },
  {
   "cell_type": "markdown",
   "id": "6c6456ae-d6fa-457e-a00c-c830a3b21daa",
   "metadata": {},
   "source": [
    "Podemos aplicar una función de agregación para ver el resultado de aplicarlo sobre cada grupo."
   ]
  },
  {
   "cell_type": "code",
   "execution_count": null,
   "id": "6836a395-dc21-468a-bb79-6a0d5c1e7253",
   "metadata": {},
   "outputs": [],
   "source": [
    "groups.sum()"
   ]
  },
  {
   "cell_type": "code",
   "execution_count": null,
   "id": "3acb3207-439b-4afd-b50d-814b8351afec",
   "metadata": {},
   "outputs": [],
   "source": [
    "# Simplificamos ahora los valores para ilustrar la agrupación por valores en columnas\n",
    "df2 = cole.copy()\n",
    "df2['c1'] = [0, 1] * 3\n",
    "df2['c2'] = [0, 1, 1] * 2\n",
    "df2"
   ]
  },
  {
   "cell_type": "code",
   "execution_count": null,
   "id": "0314b4b9-d35b-44cb-bc71-67736d1049a7",
   "metadata": {},
   "outputs": [],
   "source": [
    "# Agrupamos considerando valores de una columna o varias\n",
    "groups = df2.groupby(['c1', 'c2'])\n",
    "groups.indices"
   ]
  },
  {
   "cell_type": "markdown",
   "id": "98957c38-81fa-468c-af6c-b4d2cf8f3f12",
   "metadata": {},
   "source": [
    "Podemos acceder a un grupo determinado con `get_group`."
   ]
  },
  {
   "cell_type": "code",
   "execution_count": null,
   "id": "716888d8-2314-4feb-a662-570642c85786",
   "metadata": {},
   "outputs": [],
   "source": [
    "groups.get_group((0,1))"
   ]
  },
  {
   "cell_type": "code",
   "execution_count": null,
   "id": "c6c5e0d4-f134-400d-b8c7-ca968bab24ea",
   "metadata": {},
   "outputs": [],
   "source": [
    "groups.count()"
   ]
  },
  {
   "cell_type": "markdown",
   "id": "c869398e-51b7-4aab-91d9-94f876b20dc1",
   "metadata": {},
   "source": [
    "Como argumento a `groupby` también podemos usar una función, que se aplica a las etiquetas a agrupar, un diccionario con agrupamiento explícito de etiquetas, y otros.\n",
    "\n",
    "Por ejemplo, agrupar los cursos 'B' por un lado, y el resto en otro grupo."
   ]
  },
  {
   "cell_type": "code",
   "execution_count": null,
   "id": "f0b1caa1-974d-4e47-b0a5-19b55da681d9",
   "metadata": {},
   "outputs": [],
   "source": [
    "def myfunc(label):\n",
    "    if label[1] == 'B': return 'G2'\n",
    "    else:               return 'G1'\n",
    "\n",
    "for name, group in cole.groupby(myfunc):\n",
    "    print(name, '->', group.index.to_list())"
   ]
  },
  {
   "cell_type": "code",
   "execution_count": null,
   "id": "3ea5c85a-1fa3-441b-81a3-c6d3e1e68744",
   "metadata": {},
   "outputs": [],
   "source": [
    "cole.groupby(myfunc).mean()"
   ]
  },
  {
   "cell_type": "markdown",
   "id": "dc719b87-a85b-4e02-b098-4deb64ae0818",
   "metadata": {},
   "source": [
    "<br/>\n",
    "\n",
    "En estos casos, también podemos agrupar columnas, en lugar de filas. El siguiente ejemplo agrupa por un lado las columnas `c1` y `c2`, y por otro `c3`."
   ]
  },
  {
   "cell_type": "code",
   "execution_count": null,
   "id": "2a79ff71-7bf9-4fed-9387-988627b817d0",
   "metadata": {},
   "outputs": [],
   "source": [
    "mapping = dict(c1='G1', c2='G1', c3='G2')\n",
    "cole.groupby(mapping, axis=1).mean()"
   ]
  },
  {
   "cell_type": "markdown",
   "id": "502a12db-5055-41c8-b7cb-170399286cfd",
   "metadata": {},
   "source": [
    "<br/>\n",
    "\n",
    "Incluso podríamos agrupar por una combinación de filas y columnas (Pandas inferirá a cuál nos referimos por las etiquetas existentes en el DataFrame)."
   ]
  },
  {
   "cell_type": "code",
   "execution_count": null,
   "id": "bcf761b2-8df1-48a2-a8e3-7342784c4694",
   "metadata": {},
   "outputs": [],
   "source": [
    "df3 = pd.DataFrame([[0, 0, 0], [1, 1, 1], [0, 1, 2]], index=pd.Index(('a', 'a', 'b'), name='Idx'), columns=('c1', 'c2', 'c3'))\n",
    "df3"
   ]
  },
  {
   "cell_type": "code",
   "execution_count": null,
   "id": "43b88a7b-63c0-4722-90a7-74393cd36482",
   "metadata": {},
   "outputs": [],
   "source": [
    "# Agrupamos por índice \n",
    "df3.groupby('Idx').count()"
   ]
  },
  {
   "cell_type": "code",
   "execution_count": null,
   "id": "fd0fdddb-c1d9-4178-8d88-34fdac648ea0",
   "metadata": {},
   "outputs": [],
   "source": [
    "# Agrupamos por las diferentes combinaciones de índice y columna c2\n",
    "df3.groupby(['Idx', 'c2']).count()"
   ]
  },
  {
   "cell_type": "markdown",
   "id": "b6bde2f4-a239-4444-976b-a35897c67d09",
   "metadata": {},
   "source": [
    "### Agregación y transformación\n",
    "Igual que se pueden aplicar funciones de agregación (reducción) sobre un DataFrame, se puede hacer sobre los grupos resultantes del uso de `groupby`. Para ello, usamos la función `aggregation` (o `agg`)."
   ]
  },
  {
   "cell_type": "code",
   "execution_count": null,
   "id": "88e594f8-ac78-4758-8916-76e5fb67b252",
   "metadata": {},
   "outputs": [],
   "source": [
    "cole"
   ]
  },
  {
   "cell_type": "code",
   "execution_count": null,
   "id": "2df1c32e-a676-48a9-820a-c27f6f21af25",
   "metadata": {},
   "outputs": [],
   "source": [
    "cole.groupby('Curso').agg(np.max)"
   ]
  },
  {
   "cell_type": "markdown",
   "id": "cb3d19e1-3d23-410a-9f51-2df4fc520e65",
   "metadata": {
    "tags": []
   },
   "source": [
    "Si no queremos reducir la dimensionalidad sino solo modificar los elementos del DataFrame, podemos usar `transform`. La función argumento se aplicará sobre cada grupo resultado de `groupby`.\n",
    "\n",
    "En el siguiente ejemplo, a cada clase queremos fijar en las columnas los valores máximo para el curso en el que está (de cualquier clase, A, B o C)."
   ]
  },
  {
   "cell_type": "code",
   "execution_count": null,
   "id": "829bddd8-9f8c-4404-ba9f-b02193d25610",
   "metadata": {},
   "outputs": [],
   "source": [
    "cole.groupby('Curso').transform(lambda x: max(x))"
   ]
  },
  {
   "cell_type": "code",
   "execution_count": null,
   "id": "501b66fb-2394-4097-b937-58da2b3ffb95",
   "metadata": {},
   "outputs": [],
   "source": [
    "cole.groupby('Curso').agg(lambda x: max(x))"
   ]
  },
  {
   "cell_type": "markdown",
   "id": "72cbc5fd-cb1d-4e33-bba9-32719715ce86",
   "metadata": {},
   "source": [
    "### Filtrado\n",
    "La función `filter` aplicada a los resultados de una agrupación, los filtra, de modo que solo aquellos que satisfagan cierta condición sean devueltos. El resultado es un único DataFrame filtrado (no una serie de agrupaciones).\n",
    "\n",
    "NOTA: No confundir con la función `df.filter` que permite filtrar los índices/columnas que queremos seleccionar (se aplica a las etiquetas, no a los valores).\n",
    "\n",
    "La condición se expresa como una función arbitraria que se aplica a cada grupo y devuelve un boolean para cada caso."
   ]
  },
  {
   "cell_type": "code",
   "execution_count": null,
   "id": "f60dbf73-4d04-44d0-909e-e3f83bc49f56",
   "metadata": {},
   "outputs": [],
   "source": [
    "cole"
   ]
  },
  {
   "cell_type": "code",
   "execution_count": null,
   "id": "85a0a2db-aa4e-4152-a379-4d38a0a1a291",
   "metadata": {},
   "outputs": [],
   "source": [
    "# Elegimos las clases (A, B o C) cuyo primer curso supere cierto umbral en c1\n",
    "# Vemos que el resultado excluye completamente el grupo A (por 1ºA, aunque 2ºA sí lo cumpla)\n",
    "\n",
    "cole.groupby('Clase').filter(lambda x: x.loc['1º']['c1'] >= 1)"
   ]
  },
  {
   "cell_type": "markdown",
   "id": "514a578f-0f8f-4949-bef1-b74167e0fe44",
   "metadata": {},
   "source": [
    "<div style=\"background-color:powderblue;\">\n",
    "\n",
    "**EJERCICIO e8_2:** \n",
    "\n",
    "Siguiendo con el DataFrame del ejercicio anterior (`WordsByCharacter.csv`), contestar a las siguientes preguntas:\n",
    "    \n",
    "- ¿Cuánto hablan Gandalf y Saruman en total en _The Two Towers_?\n",
    "    \n",
    "- ¿Qué tres hobbits hablan más en el conjunto de las tres películas?\n",
    "    \n",
    "- ¿Qué tres hobbits hablan más en cada una de las tres películas?    \n",
    "\n",
    "- ¿Cuál es el personaje que menos habla, pero que habla en más de 10 capítulos? (Nota: usar `filter`) "
   ]
  },
  {
   "cell_type": "markdown",
   "id": "f15e1ec2-56df-45a5-8f2e-15a7af16ba61",
   "metadata": {},
   "source": [
    "## Unión de DataFrames"
   ]
  },
  {
   "cell_type": "markdown",
   "id": "53d35452-f0fd-4281-be65-39016a0266b8",
   "metadata": {},
   "source": [
    "### Concat\n",
    "Podemos usar la función `pd.concat` para unir una serie de DataFrames en uno nuevo resultante. Por defecto, se concatenan las filas.\n",
    "\n",
    "En el proceso se hace una copia de los datos originales."
   ]
  },
  {
   "cell_type": "code",
   "execution_count": null,
   "id": "6ca2e00d-5d38-4636-aa38-efb246f8fb5b",
   "metadata": {},
   "outputs": [],
   "source": [
    "dfA = pd.DataFrame(\n",
    "    {\n",
    "        \"a\": [\"Aa1\", \"Aa2\", \"Aa3\"],\n",
    "        \"b\": [\"Ab1\", \"Ab2\", \"Ab3\"],\n",
    "        \"c\": [\"Ac1\", \"Ac2\", \"Ac3\"],\n",
    "    },\n",
    "    index=[0, 1, 2],\n",
    ")\n",
    "\n",
    "dfB = pd.DataFrame(\n",
    "    {\n",
    "        \"a\": [\"Ba1\", \"Ba2\", \"Ba3\"],\n",
    "        \"b\": [\"Bb1\", \"Bb2\", \"Bb3\"],\n",
    "        \"c\": [\"Bc1\", \"Bc2\", \"Bc3\"],        \n",
    "    },\n",
    "    index=[10, 11, 12],\n",
    ")"
   ]
  },
  {
   "cell_type": "code",
   "execution_count": null,
   "id": "0046146f-9ded-44ff-939d-2d8bdca81b6e",
   "metadata": {},
   "outputs": [],
   "source": [
    "dfA"
   ]
  },
  {
   "cell_type": "code",
   "execution_count": null,
   "id": "b2c61786-f65f-49b3-a943-31cf580c426f",
   "metadata": {},
   "outputs": [],
   "source": [
    "dfB"
   ]
  },
  {
   "cell_type": "code",
   "execution_count": null,
   "id": "4df10397-3b54-4837-84ff-d75b89d1a7f4",
   "metadata": {},
   "outputs": [],
   "source": [
    "pd.concat([dfA, dfB])"
   ]
  },
  {
   "cell_type": "markdown",
   "id": "1864b642-a6e4-433e-b8b2-f4d81c1f4cf1",
   "metadata": {},
   "source": [
    "<br/>\n",
    "\n",
    "El resultado de `concat` realizará, como siempre, una alineación de etiquetas en índice o columnas (el eje en el que no concatenemos)."
   ]
  },
  {
   "cell_type": "code",
   "execution_count": null,
   "id": "22896b13-df5f-45d1-b5cd-87a686fbeab3",
   "metadata": {},
   "outputs": [],
   "source": [
    "dfC = pd.DataFrame(\n",
    "    {\n",
    "        \"a\": [\"Ca1\", \"Ca2\", \"Ca3\"],\n",
    "        \"d\": [\"Cd1\", \"Cd2\", \"Cd3\"],\n",
    "        \"c\": [\"Cc1\", \"Cc2\", \"Bc3\"],        \n",
    "    },\n",
    "    index=[20, 21, 22],\n",
    ")\n",
    "dfC"
   ]
  },
  {
   "cell_type": "code",
   "execution_count": null,
   "id": "a9f950ac-9920-43c2-a009-ae9e5cd4b878",
   "metadata": {},
   "outputs": [],
   "source": [
    "pd.concat([dfA, dfB, dfC])"
   ]
  },
  {
   "cell_type": "markdown",
   "id": "22c3723c-4444-47f9-888a-d83a4c8dd0dc",
   "metadata": {},
   "source": [
    "<br/>\n",
    "\n",
    "Podemos decidir no incluir en el resultado las columnas en las que no todos los DataFrames argumento tienen claves coincidentes, usando `join='inner'` (por defecto, se usa: `join='outer'`)"
   ]
  },
  {
   "cell_type": "code",
   "execution_count": null,
   "id": "20b1fa63-590b-4acf-b989-374be14bab1b",
   "metadata": {},
   "outputs": [],
   "source": [
    "pd.concat([dfA, dfB, dfC], join='inner')"
   ]
  },
  {
   "cell_type": "markdown",
   "id": "dbdb2077-a8d1-4ea1-9960-5defabaaf37b",
   "metadata": {},
   "source": [
    "<br/>\n",
    "\n",
    "También podemos concatenar en la dimensión de columnas, con `axis=1`."
   ]
  },
  {
   "cell_type": "code",
   "execution_count": null,
   "id": "87c0404d-03d7-43ca-88e7-667e3a127579",
   "metadata": {},
   "outputs": [],
   "source": [
    "dfD = pd.DataFrame(\n",
    "    {\n",
    "        \"e\": [\"De1\", \"De2\", \"Df3\"],\n",
    "        \"f\": [\"Df2\", \"Df2\", \"Df3\"],\n",
    "        \"g\": [\"Dg3\", \"Dg2\", \"Dg3\"],        \n",
    "    },\n",
    "    index=[0, 1, 2],\n",
    ")\n",
    "dfD"
   ]
  },
  {
   "cell_type": "code",
   "execution_count": null,
   "id": "068f5e42-a067-4359-a85e-f7327ac05d07",
   "metadata": {},
   "outputs": [],
   "source": [
    "pd.concat([dfA, dfD], axis=1)"
   ]
  },
  {
   "cell_type": "markdown",
   "id": "0af6807d-17bd-45be-b83c-26818a27b630",
   "metadata": {},
   "source": [
    "<br/>\n",
    "\n",
    "Por último, es interesante destacar que el método de la clase DataFrame `append` es equivalente a `pd.concat` (con sus principales argumentos con valores por defecto: `axis=0` y `join=outer`)."
   ]
  },
  {
   "cell_type": "code",
   "execution_count": null,
   "id": "a4ca1455-b12e-4855-a838-e8828fbc9c4c",
   "metadata": {},
   "outputs": [],
   "source": [
    "dfA.append(dfB)"
   ]
  },
  {
   "cell_type": "markdown",
   "id": "04f3c1a9-fcae-4876-88db-58fac1674c55",
   "metadata": {},
   "source": [
    "### Merge\n",
    "La función `pd.merge` nos permite fusionar DataFrames, utilizando una lógica de álgebra de conjuntos, inspirada en SQL (bases de datos relacionales), y considerando ĺos índices (de las filas) o los valores de alguna(s) columna(s) como claves para relacionar los argumento.\n",
    "\n",
    "Por defecto, `merge` considera como clave aquella(s) columna(s) que aparezca con el mismo nombre en los dos DataFrames usados como argumentos, y solo incluye en el resultado las filas con valores coincidentes para esa columna."
   ]
  },
  {
   "cell_type": "code",
   "execution_count": null,
   "id": "d4949afb-516e-40d2-b44d-c6e5c221efa5",
   "metadata": {},
   "outputs": [],
   "source": [
    "dfA = pd.DataFrame(\n",
    "    {\n",
    "        \"k\": [\"A\", \"B\", \"C\"],\n",
    "        \"A\": [1, 11, 111],\n",
    "        \"B\": [2, 22, 222],\n",
    "    },\n",
    "    index=[0, 1, 2],\n",
    ")\n",
    "dfB = pd.DataFrame(\n",
    "    {\n",
    "        \"k\": [\"A\", \"C\", \"D\"],\n",
    "        \"C\": [5, 55, 555],\n",
    "        \"D\": [6, 66, 666],        \n",
    "    },\n",
    "    index=[0, 2, 3],\n",
    ")\n",
    "\n",
    "display(dfA)\n",
    "display(dfB)"
   ]
  },
  {
   "cell_type": "code",
   "execution_count": null,
   "id": "8d0fa9a7-9f66-419f-951f-57e23e359aff",
   "metadata": {},
   "outputs": [],
   "source": [
    "pd.merge(dfA, dfB)"
   ]
  },
  {
   "cell_type": "markdown",
   "id": "2d4b01f5-ccef-4349-b8b7-afe8a3de8419",
   "metadata": {},
   "source": [
    "En general, usaremos `on` (o `left_on`/`right_on`) para especificar la columna a considerar como clave."
   ]
  },
  {
   "cell_type": "code",
   "execution_count": null,
   "id": "1f54999c-caa2-4788-a2a3-b5e6b2bc9817",
   "metadata": {},
   "outputs": [],
   "source": [
    "pd.merge(dfA, dfB, on='k')"
   ]
  },
  {
   "cell_type": "markdown",
   "id": "85dc1630-5a87-49bc-aa2b-e44ddc50225e",
   "metadata": {},
   "source": [
    "Además, `merge` ofrece diferentes posibilidades en la lógica de las filas a considerar según las claves que presenten en los argumentos:\n",
    "\n",
    "- `inner` (defecto): solo las filas con claves coincidentes aparecen en el resultado.\n",
    "- `outer`: todas las filas de los DataFrames argumento aparecen en el resultado.\n",
    "- `left`: las filas del DataFrame _izquierdo_ (primer argumento) aparecen en el resultado.\n",
    "- `right`: las filas del DataFrame _derecho_ (segundo argumento) aparecen en el resultado."
   ]
  },
  {
   "cell_type": "code",
   "execution_count": null,
   "id": "5701f214-214b-4133-9927-1d076ff2d471",
   "metadata": {},
   "outputs": [],
   "source": [
    "pd.merge(dfA, dfB, how='outer')"
   ]
  },
  {
   "cell_type": "code",
   "execution_count": null,
   "id": "6ee97f2b-aca1-4ba8-b90d-77a7b603cf05",
   "metadata": {},
   "outputs": [],
   "source": [
    "pd.merge(dfA, dfB, on='k', how='left')"
   ]
  },
  {
   "cell_type": "code",
   "execution_count": null,
   "id": "3adae539-b07b-4ceb-8064-c6c4d6a3c15c",
   "metadata": {},
   "outputs": [],
   "source": [
    "pd.merge(dfA, dfB, on='k', how='right')"
   ]
  },
  {
   "cell_type": "markdown",
   "id": "b92c6a2d-768f-44c5-bc22-4e7801bac65d",
   "metadata": {},
   "source": [
    "<br/>\n",
    "\n",
    "Podemos también hacer la fusión usando los índices como clave, en lugar de columnas."
   ]
  },
  {
   "cell_type": "code",
   "execution_count": null,
   "id": "8119789e-726c-49b3-be12-89a25de74a11",
   "metadata": {},
   "outputs": [],
   "source": [
    "pd.merge(dfA, dfB, left_index=True, right_index=True)"
   ]
  },
  {
   "cell_type": "markdown",
   "id": "472f2648-3acf-44ce-b347-095a0acf4547",
   "metadata": {},
   "source": [
    "Lo cual es más sencillo si el índice tiene un nombre."
   ]
  },
  {
   "cell_type": "code",
   "execution_count": null,
   "id": "184f3322-6982-4d78-8d64-92ca0b665e4f",
   "metadata": {},
   "outputs": [],
   "source": [
    "dfA.index.name = 'idx'\n",
    "dfB.index.name = 'idx'\n",
    "\n",
    "pd.merge(dfA, dfB, on='idx')"
   ]
  },
  {
   "cell_type": "markdown",
   "id": "2b34ea3c-ed07-43b0-8105-ec572c079679",
   "metadata": {},
   "source": [
    "<br/>\n",
    "\n",
    "La función `merge` es muy sofisticada y permite usar más de una columna como clave para la fusión, o nombres de columna diferentes para las claves los DataFrames fusionados, así como usar multi-índices. También permite fusionar más de 2 DataFrames a la vez.\n",
    "\n",
    "Además, la función de DataFrame `join` ofrece parte de la funcionalidad de `pd.merge`. No lo vamos a ver aquí, aunque cabe resaltar que, al contrario de lo que ocurre con `merge`, con `join` se usan los índices como clave por defecto, aunque se puede indicar el uso de cierta(s) columna(s)."
   ]
  },
  {
   "cell_type": "markdown",
   "id": "b60f0983-2f2f-4b16-8487-bfee70eaecdd",
   "metadata": {},
   "source": [
    "<div style=\"background-color:powderblue;\">\n",
    "\n",
    "**EJERCICIO e8_3:** \n",
    "    \n",
    "Cargar los datos almacenados en los ficheros `school_2018_clean_Countries.pickle` (indicadores sobre escolarización, por país), y `development_2018_clean_Countries.pickle` (indicadores sobre desarollo, por país), y unirlos en una sola tabla usando `merge`. Observar el número de filas (países) en cada tabla.\n",
    "\n",
    "Extra: usando `seaborn.regplot`, realizar un gráfico de regresión lineal entre alguna de las magnitudes incluidas en la tabla (p.ej. escuela secundaria y renta per capita)."
   ]
  },
  {
   "cell_type": "markdown",
   "id": "7320368f-622a-43f2-bb68-4525a988d891",
   "metadata": {},
   "source": [
    "## Pivotado de DataFrames\n",
    "Pandas ofrece varias funciones para modicar la forma de nuestro DataFrame, esencialmente del formato _largo_ al _ancho_, y a la inversa. Recordando:\n",
    "\n",
    "**Long-format**: cada variable es una columna, cada observación es una fila. \n",
    "\n",
    "**Wide-format**: se incluyen más columnas en la tabla, de modo que cada observación se define por las coordenadas de esa celda en cuanto a índice y columnas."
   ]
  },
  {
   "cell_type": "markdown",
   "id": "08fb9fe9-f800-417d-b208-b7cba165a4c0",
   "metadata": {},
   "source": [
    "- De largo a ancho: `pivot`, `unstack`.\n",
    "- De ancho a largo: `melt`, `wide_to_long`, `stack`."
   ]
  },
  {
   "cell_type": "markdown",
   "id": "5fe45fa3-c2cc-4547-83f1-503abdfb70a3",
   "metadata": {
    "tags": []
   },
   "source": [
    "### stack y unstack"
   ]
  },
  {
   "cell_type": "code",
   "execution_count": null,
   "id": "4445b97b-ee76-4b87-9bd8-28914207151b",
   "metadata": {},
   "outputs": [],
   "source": [
    "tuples = [('A', 'juan'), ('A', 'pedro'), ('B', 'maria')]\n",
    "idx = pd.MultiIndex.from_tuples(tuples, names=[\"grupo\", \"nombre\"])\n",
    "df0 = pd.DataFrame(\n",
    "    {\n",
    "        'altura': [180, 175, 170],\n",
    "        'peso': [80, 73, 65],\n",
    "    },\n",
    "    index=idx\n",
    ")    \n",
    "df0    "
   ]
  },
  {
   "cell_type": "code",
   "execution_count": null,
   "id": "b8c9bc4b-89e7-4425-a156-63fc70567ee5",
   "metadata": {},
   "outputs": [],
   "source": [
    "# Con 'stack' lo hacemos más \"larga\" (perdemos columnas)\n",
    "df1 = df0.stack()\n",
    "pd.DataFrame(df1)"
   ]
  },
  {
   "cell_type": "code",
   "execution_count": null,
   "id": "2e9a5431-a77b-4f3a-b8d5-c8c71d8e7b29",
   "metadata": {},
   "outputs": [],
   "source": [
    "# Con 'unstack' lo hacemos más \"ancha\" (ganamos columnas)\n",
    "df1.unstack()"
   ]
  },
  {
   "cell_type": "code",
   "execution_count": null,
   "id": "0cd9e2b8-b4c2-4e0f-9954-413e2e7c99bb",
   "metadata": {},
   "outputs": [],
   "source": [
    "# Todavía más\n",
    "df0.unstack()"
   ]
  },
  {
   "cell_type": "code",
   "execution_count": null,
   "id": "24d85b19-82b2-488f-9edc-c34353694b45",
   "metadata": {},
   "outputs": [],
   "source": [
    "df0.unstack()"
   ]
  },
  {
   "cell_type": "code",
   "execution_count": null,
   "id": "505c0fd1-1e42-414a-9598-ab8fe987c813",
   "metadata": {},
   "outputs": [],
   "source": [
    "# Incluso hasta que todo sean columnas... en una serie\n",
    "df0.unstack()"
   ]
  },
  {
   "cell_type": "markdown",
   "id": "b57b5019-a288-454e-a2cd-79db634e1215",
   "metadata": {
    "tags": []
   },
   "source": [
    "### pivot_tables\n",
    "Las función `pivot_tables` nos permite promocionar valores de una tabla a índices o columnas, al tiempo que se usa alguna función de agregación para reducir los valores de estas diferentes celdas a una sola. De esta forma, podemos conseguir resúmenes de la información desde diferenes perspectivas. Esta funcionalidad es muy utilizada en los entornos de hoja de cálculo.\n",
    "\n",
    "En Pandas podemos usar la función `pivot_tables` para ello.\n",
    "\n",
    "- NOTA: también podríamos conseguir esta funcionalidad con `groupby`, pero seguramente `pivot_tables`\n",
    "es más intuitivo."
   ]
  },
  {
   "cell_type": "code",
   "execution_count": null,
   "id": "d3afc124-df78-4faa-80b8-2afe662070f5",
   "metadata": {},
   "outputs": [],
   "source": [
    "fname = 'data/long_format.csv'\n",
    "gastos = pd.read_csv(fname, delim_whitespace=True)\n",
    "gastos.head()"
   ]
  },
  {
   "cell_type": "code",
   "execution_count": null,
   "id": "3f3a1308-2c89-438e-bd3b-85adf0b5feec",
   "metadata": {
    "tags": []
   },
   "outputs": [],
   "source": [
    "# Lo siguiente fallará\n",
    "gastos.pivot(index='nombre', columns='anyo', values='gasto')"
   ]
  },
  {
   "cell_type": "markdown",
   "id": "aab47a03-5d06-4153-927a-fb7b1b98508a",
   "metadata": {},
   "source": [
    "<br/>\n",
    "\n",
    "Con `pivot_table` podemos agregar el gasto por persona y año (debemos usar `aggfunc` porque la agregación por defecto calcula el valor medio)."
   ]
  },
  {
   "cell_type": "code",
   "execution_count": null,
   "id": "5329e423-93fa-4044-b4c7-e53178341e25",
   "metadata": {
    "tags": []
   },
   "outputs": [],
   "source": [
    "gastos.pivot_table(index='nombre', columns='anyo', values='gasto', aggfunc=np.sum)"
   ]
  },
  {
   "cell_type": "markdown",
   "id": "6daa6916-04d0-4cbe-83ce-3142c85ce73b",
   "metadata": {},
   "source": [
    "Hagamos lo mismo con `groupby`"
   ]
  },
  {
   "cell_type": "code",
   "execution_count": null,
   "id": "15924a8b-4d56-4acd-923e-11cf59ac1c2f",
   "metadata": {},
   "outputs": [],
   "source": [
    "gastos.groupby(['nombre', 'anyo'])['gasto'].sum().unstack()"
   ]
  },
  {
   "cell_type": "markdown",
   "id": "508e64c4-cee8-4b85-a476-2df230da3183",
   "metadata": {},
   "source": [
    "<br/>\n",
    "\n",
    "Cambiamos la perspectiva a ver las sumas por `concepto`, dando 0 como valor por defecto, y añadiendo sumas totales."
   ]
  },
  {
   "cell_type": "code",
   "execution_count": null,
   "id": "9a93a01c-8a28-476d-885b-0218420e7817",
   "metadata": {
    "tags": []
   },
   "outputs": [],
   "source": [
    "gastos.pivot_table(index='anyo', columns='concepto', values='gasto', \n",
    "                aggfunc=np.sum, fill_value=0, margins=True)"
   ]
  },
  {
   "cell_type": "code",
   "execution_count": null,
   "id": "ee1202da-3c21-4ce6-b188-d5fa06f1546c",
   "metadata": {
    "tags": []
   },
   "outputs": [],
   "source": [
    "# Incluyamos ahora conceptos y nombres\n",
    "gastos.pivot_table(index='anyo', columns=('concepto', 'nombre'), values='gasto', \n",
    "                aggfunc=np.sum, fill_value=0, margins=True)"
   ]
  },
  {
   "cell_type": "markdown",
   "id": "574d873d-21a7-4caa-80d9-b0d70bb91958",
   "metadata": {},
   "source": [
    "<div style=\"background-color:powderblue;\">\n",
    "\n",
    "**EJERCICIO e8_4:** \n",
    "\n",
    "Contestar a las 3 primeras preguntas del ejercicio `e8_2` usando `pivot_table`, en lugar de `groupby`."
   ]
  },
  {
   "cell_type": "markdown",
   "id": "07819223-74a8-4cf3-afc4-4bbd226e0309",
   "metadata": {},
   "source": [
    "## Series temporales\n",
    "Pandas ofrece un soporte muy potente para las unidades temporales. Es conveniente utilizar los tipos de datos de Pandas para los valores temporales de nuestras Series y DataFrames.\n",
    "\n",
    "El uso de los diferentes valores e índices de tipo temporal de Pandas, nos permite utilizar funcionalidad avanzada como indexado parcial o de _slice_, desplazamientos de los puntos temporales, cambiar la frecuencia de un índice, o corregir por zona horaria.\n",
    "\n",
    "No vamos a ver todos los detalles, pero se pueden encontrar en:\n",
    "\n",
    "https://pandas.pydata.org/docs/user_guide/timeseries.html#timeseries-overview"
   ]
  },
  {
   "cell_type": "markdown",
   "id": "6e8e2e25-21cd-4a33-9f19-d833f705fe19",
   "metadata": {},
   "source": [
    "Los principales tipos de datos temporales soportados por Pandas son:\n",
    "\n",
    "- `Timestamp` (`DatetimeIndex`), cuyo dtype es `datetime64[ns]`, y representa un instante concreto.\n",
    "- `Period` (`PeriodIndex`), cuyo dtype es `period[freq]`, y representa un período regular.\n",
    "- `Timedelta` (`TimedeltaIndex`), cuyo dtype es `timedelta64[ns]`, y representa una diferencia de tiempos.\n",
    "- `DateOffset`, que es como `Timedelta` pero no es absoluto sino que respeta peculiaridades del calendario."
   ]
  },
  {
   "cell_type": "markdown",
   "id": "d4e4024a-9c30-4f55-b284-2fdf14e6b480",
   "metadata": {},
   "source": [
    "### Timestamp\n",
    "Un `Timestamp` representa un instante en el tiempo. Una serie de Timestamps compone un `DateTimeIndex`, que puede usarse como índice de un DataFrame."
   ]
  },
  {
   "cell_type": "code",
   "execution_count": null,
   "id": "f90ba504-74dd-47fe-a72f-e951c7459b3e",
   "metadata": {},
   "outputs": [],
   "source": [
    "ts = pd.Timestamp(\"2012-05-01 20:00\")\n",
    "ts"
   ]
  },
  {
   "cell_type": "code",
   "execution_count": null,
   "id": "af5d8aa4-7d31-4f1e-adb2-974219960b13",
   "metadata": {},
   "outputs": [],
   "source": [
    "print(ts.year, ts.week, ts.hour)"
   ]
  },
  {
   "cell_type": "code",
   "execution_count": null,
   "id": "ce5028b9-6f13-495a-a250-0727306d8d2c",
   "metadata": {},
   "outputs": [],
   "source": [
    "pd.Timestamp(2012, 5, 1)"
   ]
  },
  {
   "cell_type": "markdown",
   "id": "fd58c735-04a2-41e9-9549-dcad010ae79a",
   "metadata": {},
   "source": [
    "<p/>\n",
    "\n",
    "`Timestamp` reconoce muchos formatos comunes."
   ]
  },
  {
   "cell_type": "code",
   "execution_count": null,
   "id": "9a29d952-bb23-43c6-bd2b-997683b84a75",
   "metadata": {},
   "outputs": [],
   "source": [
    "pd.Timestamp('03/01 22 16:15')"
   ]
  },
  {
   "cell_type": "markdown",
   "id": "714fcdc9-266a-4c94-9a74-6ad9d230d2d4",
   "metadata": {},
   "source": [
    "Para otros formatos, se debe usar el método `pd.to_datetime` con el argumento `format`."
   ]
  },
  {
   "cell_type": "markdown",
   "id": "cd9c2df8-0633-478c-be28-3433d7edffa4",
   "metadata": {},
   "source": [
    "<br/>\n",
    "\n",
    "El método `pd.to_datetime` también nos permite convertir a `Timestamp` series de valores ya existentes."
   ]
  },
  {
   "cell_type": "code",
   "execution_count": null,
   "id": "15f7ac28-54c7-457c-a8ff-6303098b6d11",
   "metadata": {},
   "outputs": [],
   "source": [
    "df = pd.DataFrame({\n",
    "    'name':[ 'john','mary','peter','jeff','bill' ],\n",
    "    'date_of_birth':[ '2000-01-01', '1999-12-20', '2000-11-01', '1995-02-25', '1992-06-30' ]\n",
    "})\n",
    "print(df.index)\n",
    "df"
   ]
  },
  {
   "cell_type": "code",
   "execution_count": null,
   "id": "a188d1d8-22f8-4cf9-8b11-914dd8a7ba1e",
   "metadata": {},
   "outputs": [],
   "source": [
    "df.date_of_birth = pd.to_datetime(df.date_of_birth)\n",
    "df.dtypes"
   ]
  },
  {
   "cell_type": "code",
   "execution_count": null,
   "id": "08617b61-f73c-4ecf-926b-5f75770f33ac",
   "metadata": {},
   "outputs": [],
   "source": [
    "df.set_index('date_of_birth', inplace=True)\n",
    "print(df.index)\n",
    "df"
   ]
  },
  {
   "cell_type": "markdown",
   "id": "f7888b0d-b934-43b2-ad98-64c80571e9be",
   "metadata": {},
   "source": [
    "<br/>\n",
    "\n",
    "Podemos generar un `DateTimeIndex` con cierta frecuencia, usando la función `pd.date_range`."
   ]
  },
  {
   "cell_type": "code",
   "execution_count": null,
   "id": "5dbf1f1d-9609-4dfc-b892-68eb914bdfac",
   "metadata": {},
   "outputs": [],
   "source": [
    "pd.date_range(\"2012-10-08\", periods=4, freq=\"D\")"
   ]
  },
  {
   "cell_type": "code",
   "execution_count": null,
   "id": "4b8f726a-f98a-4619-b0a3-1b8130f3157e",
   "metadata": {},
   "outputs": [],
   "source": [
    "# Otro ejemplo, indicando momento inicial y final, e intervalo entre timestamps\n",
    "idx = pd.date_range(\"2000-10-01 16:45:00\", \"2000-10-01 18:00:00\", freq=\"10min\", tz=\"UTC\")\n",
    "dft = pd.DataFrame({'num': np.arange(len(idx))}, index=idx)\n",
    "dft"
   ]
  },
  {
   "cell_type": "markdown",
   "id": "6a0d3637-d029-4010-889f-184c3f8010f0",
   "metadata": {},
   "source": [
    "<br/>\n",
    "\n",
    "Una vez tenemos definido un DateTimeIndex, podemos realizar indexado individual o _slice_ con _matching_ parcial, usando p. ej. strings (completos o parciales)."
   ]
  },
  {
   "cell_type": "code",
   "execution_count": null,
   "id": "d698fdf7-db4c-4cac-a0b8-b629ed5f02e0",
   "metadata": {},
   "outputs": [],
   "source": [
    "dft.loc['2000-10-01 17:05:00']"
   ]
  },
  {
   "cell_type": "code",
   "execution_count": null,
   "id": "0800c268-a573-48a0-9474-cb62d26dfc73",
   "metadata": {},
   "outputs": [],
   "source": [
    "dft.loc['2000-10-01 17']"
   ]
  },
  {
   "cell_type": "code",
   "execution_count": null,
   "id": "54092754-c7c3-4d13-8364-c68b46819144",
   "metadata": {},
   "outputs": [],
   "source": [
    "dft.loc['2000-10-01 17:05':'2000-10-01 17:35']"
   ]
  },
  {
   "cell_type": "markdown",
   "id": "c35ec6d0-eaf0-47a9-b014-741ad5977d72",
   "metadata": {},
   "source": [
    "### Period\n",
    "Un `Period` representa un _intervalo_ (regular) de tiempo a partir de un instante determinado. Una serie de Periods constituye un `PeriodIndex`."
   ]
  },
  {
   "cell_type": "code",
   "execution_count": null,
   "id": "b0e91467-3067-4d07-a420-0ebfc75527a6",
   "metadata": {},
   "outputs": [],
   "source": [
    "pd.Period(\"2012-1-1\", freq=\"D\")"
   ]
  },
  {
   "cell_type": "code",
   "execution_count": null,
   "id": "c456cd17-3464-4752-bc27-4cce3a1d012c",
   "metadata": {},
   "outputs": [],
   "source": [
    "periods = pd.period_range(\"1/1/2011\", \"7/1/2011\", freq=\"M\")\n",
    "periods"
   ]
  },
  {
   "cell_type": "code",
   "execution_count": null,
   "id": "6e638932-a68e-4fe3-b0c4-4fc24ed585fc",
   "metadata": {},
   "outputs": [],
   "source": [
    "dfp = pd.DataFrame({'num': np.arange(len(periods))}, index=periods)\n",
    "dfp"
   ]
  },
  {
   "cell_type": "code",
   "execution_count": null,
   "id": "e5fc5393-3262-4a81-b79a-6224cf14d051",
   "metadata": {},
   "outputs": [],
   "source": [
    "dfp.loc['2011-02':'2011-06']"
   ]
  },
  {
   "cell_type": "markdown",
   "id": "233e3f48-2037-4231-8c2b-bd624646f40f",
   "metadata": {},
   "source": [
    "The function `to_period` allows you to convert from `TimeStamp` to `Period`."
   ]
  },
  {
   "cell_type": "code",
   "execution_count": null,
   "id": "bfa2faa5-a702-48f3-9802-6658a403ee13",
   "metadata": {},
   "outputs": [],
   "source": [
    "idx"
   ]
  },
  {
   "cell_type": "code",
   "execution_count": null,
   "id": "9b043d1b-5f3f-4880-902a-7d937c9f89c2",
   "metadata": {},
   "outputs": [],
   "source": [
    "idx.to_period()"
   ]
  },
  {
   "cell_type": "markdown",
   "id": "956fe75d-afcd-48a2-8f29-1cc39d6542fe",
   "metadata": {},
   "source": [
    "### Timedelta\n",
    "Un `Timedelta` representa una _diferencia_ de tiempos relativa (no corresponde a un momento concreto). Un `DateOffset` es similar, pero respeta singularidades del calendario (por ejemplo si un día tiene una hora más o menos)."
   ]
  },
  {
   "cell_type": "code",
   "execution_count": null,
   "id": "bb12ccef-2229-43b2-bfb4-d98502111833",
   "metadata": {},
   "outputs": [],
   "source": [
    "ts2 = pd.Timestamp(\"2012-05-01 20:00\")\n",
    "ts1 = pd.Timestamp(\"2012-05-02 15:00\")\n",
    "ts2 - ts1"
   ]
  },
  {
   "cell_type": "code",
   "execution_count": null,
   "id": "8d313ccb-f2cd-41ad-a1ec-022f4651875f",
   "metadata": {},
   "outputs": [],
   "source": [
    "ts1 + pd.offsets.Minute(5)"
   ]
  },
  {
   "cell_type": "markdown",
   "id": "7ae06ffc-663b-40f6-b14b-7e8406cbeff9",
   "metadata": {},
   "source": [
    "Podemos usar series de Timedelta en índices `TimedeltaIndex`."
   ]
  },
  {
   "cell_type": "code",
   "execution_count": null,
   "id": "e13c493b-25b3-4644-a7d1-9abdde6c55bd",
   "metadata": {},
   "outputs": [],
   "source": [
    "pd.TimedeltaIndex([\"0 days\", \"10 days\", \"20 days\"], freq=\"infer\")"
   ]
  },
  {
   "cell_type": "markdown",
   "id": "f32da4da-aac1-4d2b-94ec-076e675af380",
   "metadata": {},
   "source": [
    "Podemos usar las funciones `to_timedelta` y `timedelta_range` de manera análogas a las funciones vistas anteriormente, y también indexado avanzado."
   ]
  },
  {
   "cell_type": "code",
   "execution_count": null,
   "id": "64627dfa-41e5-4621-834e-3b9e6d605dd6",
   "metadata": {},
   "outputs": [],
   "source": [
    "pd.timedelta_range(start=\"1 days\", periods=5)"
   ]
  },
  {
   "cell_type": "markdown",
   "id": "82564527-e415-4451-b9ab-9cc7b0f3bf90",
   "metadata": {},
   "source": [
    "<div style=\"background-color:powderblue;\">\n",
    "\n",
    "**EJERCICIO e8_5:** \n",
    "\n",
    "Vamos a explorar unos datos de la NASA sobre la actividad solar. En particular los siguientes:\n",
    "\n",
    "- _sun_spots_: the sunspot number (R) - the number of spots on the surface of the Sun, indicating how active it is.\n",
    "- _magnetic_activity_: the Dst index - an hourly magnetic activity index measured at Earth’s surface, in nT\n",
    "- _radio_flux_: the F10.7 index - the radio flux at 10.7cm (i.e. how bright the Sun is at that wavelength), in “solar flux units” (sfu)\n",
    "\n",
    "Para ello, haremos:    \n",
    "    \n",
    "- Cargar los datos del fichero `data/nasa_omni2.pickle` en un DataFrame\n",
    "\n",
    "- Construir un índice de tipo fecha con las siguientes instrucciones:\n",
    "```python\n",
    "temp = df[\"Year\"] * 100000 + df[\"DOY\"] * 100 + df[\"Hour\"]\n",
    "df.index = pd.to_datetime(temp, format=\"%Y%j%H\")\n",
    "```\n",
    "\n",
    "\n",
    "- Crear un plot con `df.plot`, usando `subplots=True` de las 3 series de datos, para todos los años.\n",
    "\n",
    "- Repetir lo mismo pero solo para los datos entre los años 1987 y 1993.\n",
    "\n",
    "- Utilizar la expresión `df.resample(\"1y\").median()` para obtener la mediana por año (lo que elimina las frecuencias altas), y volver a realizar la gráfica para todos los años.   "
   ]
  }
 ],
 "metadata": {
  "kernelspec": {
   "display_name": "python3.7",
   "language": "python",
   "name": "python3.7"
  },
  "language_info": {
   "codemirror_mode": {
    "name": "ipython",
    "version": 3
   },
   "file_extension": ".py",
   "mimetype": "text/x-python",
   "name": "python",
   "nbconvert_exporter": "python",
   "pygments_lexer": "ipython3",
   "version": "3.7.9"
  }
 },
 "nbformat": 4,
 "nbformat_minor": 5
}

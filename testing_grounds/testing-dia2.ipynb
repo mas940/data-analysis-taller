{
 "cells": [
  {
   "cell_type": "markdown",
   "id": "2195eb52",
   "metadata": {},
   "source": [
    "# **Descrubiendo el Poder de la Analítica**\n",
    "## **Día 2**\n",
    "\n",
    "### Meta: *Aplicación de principales fundamentales*\n",
    "1. Ejercicios de datos básicos, incluyendo muestras de grandes conjuntos de datos. \n",
    "    - Include some brief introduction to classes/functions to better complete exercises: Modularity\n",
    "    - least squares/statistical analysis\n",
    "    - introduce the larger datasets from cosmicai\n",
    "\n",
    "2. Ejercicios y ejemplos de visualizaciones gráficas con los paquetes de Python\n",
    "    - Multidimensional analysis & plotting (more technical features) \n",
    "    - Interactive visualizations\n",
    "    - Imaging\n",
    "\n",
    "\n",
    "\n",
    "\n"
   ]
  },
  {
   "cell_type": "markdown",
   "id": "29f07731",
   "metadata": {},
   "source": []
  },
  {
   "cell_type": "code",
   "execution_count": 1,
   "id": "50d29643",
   "metadata": {},
   "outputs": [],
   "source": [
    "import pandas as pd\n",
    "import numpy as np\n",
    "import matplotlib.pyplot as plt"
   ]
  },
  {
   "cell_type": "code",
   "execution_count": 2,
   "id": "6a983e8f",
   "metadata": {},
   "outputs": [],
   "source": [
    "df = pd.read_csv('../data/COlines.csv')#,\n",
    "#                 sep=';')\n",
    "\n",
    "# create histogram\n",
    "#bin_edges = np.arange(0, df['y-axis'].max() + 1, 1)\n",
    "#fig = plt.hist(df['y-axis'], bins=bin_edges)\n",
    "\n",
    "# add plot labels\n",
    "#plt.xlabel('count')\n",
    "#plt.ylabel('y-axis')\n",
    "#plt.show()"
   ]
  },
  {
   "cell_type": "code",
   "execution_count": 19,
   "id": "773f085a",
   "metadata": {},
   "outputs": [],
   "source": [
    "# For plots inline in notebook\n",
    "%matplotlib inline \n",
    "\n",
    "# Import matplotlib\n",
    "import matplotlib.pyplot as plt\n",
    "\n",
    "# we will also need numpy\n",
    "import numpy as np"
   ]
  },
  {
   "cell_type": "code",
   "execution_count": null,
   "id": "8f14e204",
   "metadata": {},
   "outputs": [],
   "source": []
  }
 ],
 "metadata": {
  "kernelspec": {
   "display_name": "Python 3",
   "language": "python",
   "name": "python3"
  },
  "language_info": {
   "codemirror_mode": {
    "name": "ipython",
    "version": 3
   },
   "file_extension": ".py",
   "mimetype": "text/x-python",
   "name": "python",
   "nbconvert_exporter": "python",
   "pygments_lexer": "ipython3",
   "version": "3.12.1"
  }
 },
 "nbformat": 4,
 "nbformat_minor": 5
}

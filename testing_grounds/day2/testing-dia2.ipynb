{
 "cells": [
  {
   "cell_type": "markdown",
   "id": "2195eb52",
   "metadata": {},
   "source": [
    "# **Descrubiendo el Poder de la Analítica**\n",
    "## **Día 2**\n",
    "\n",
    "### Meta: *Aplicación de principales fundamentales*\n",
    "1. Ejercicios de datos básicos, incluyendo muestras de grandes conjuntos de datos. \n",
    "    - Include some brief introduction to classes/functions to better complete exercises: Modularity\n",
    "    - least squares/statistical analysis\n",
    "    - introduce the larger datasets from cosmicai\n",
    "\n",
    "2. Ejercicios y ejemplos de visualizaciones gráficas con los paquetes de Python\n",
    "    - Multidimensional analysis & plotting (more technical features) \n",
    "    - Interactive visualizations\n",
    "    - Imaging\n",
    "\n",
    "\n",
    "\n",
    "\n"
   ]
  },
  {
   "cell_type": "markdown",
   "id": "29f07731",
   "metadata": {},
   "source": []
  },
  {
   "cell_type": "code",
   "execution_count": 1,
   "id": "50d29643",
   "metadata": {},
   "outputs": [],
   "source": [
    "import pandas as pd\n",
    "import numpy as np\n",
    "import matplotlib.pyplot as plt"
   ]
  },
  {
   "cell_type": "code",
   "execution_count": 1,
   "id": "bf2f69ea",
   "metadata": {},
   "outputs": [],
   "source": [
    "import pandas as pd\n",
    "from pandas import Series, DataFrame"
   ]
  },
  {
   "cell_type": "code",
   "execution_count": 2,
   "id": "98f3e90f",
   "metadata": {},
   "outputs": [
    {
     "data": {
      "text/plain": [
       "0     1\n",
       "1     2\n",
       "2     4\n",
       "3    -7\n",
       "4   -10\n",
       "5    20\n",
       "dtype: int64"
      ]
     },
     "execution_count": 2,
     "metadata": {},
     "output_type": "execute_result"
    }
   ],
   "source": [
    "test_series = Series([1, 2, 4, -7, -10 , 20])\n",
    "test_series"
   ]
  },
  {
   "cell_type": "code",
   "execution_count": 3,
   "id": "1c25530b",
   "metadata": {},
   "outputs": [
    {
     "data": {
      "text/plain": [
       "array([  1,   2,   4,  -7, -10,  20])"
      ]
     },
     "execution_count": 3,
     "metadata": {},
     "output_type": "execute_result"
    }
   ],
   "source": [
    "test_series.values"
   ]
  },
  {
   "cell_type": "code",
   "execution_count": 4,
   "id": "2661332c",
   "metadata": {},
   "outputs": [
    {
     "data": {
      "text/plain": [
       "x     1\n",
       "y     2\n",
       "a     4\n",
       "d    -7\n",
       "e   -10\n",
       "c    20\n",
       "dtype: int64"
      ]
     },
     "execution_count": 4,
     "metadata": {},
     "output_type": "execute_result"
    }
   ],
   "source": [
    "test_series = Series([1, 2, 4, -7, -10, 20], index=[\"x\", \"y\", \"a\", \"d\", \"e\", \"c\"])\n",
    "test_series"
   ]
  },
  {
   "cell_type": "code",
   "execution_count": 5,
   "id": "fbef72aa",
   "metadata": {},
   "outputs": [
    {
     "data": {
      "text/plain": [
       "np.int64(-7)"
      ]
     },
     "execution_count": 5,
     "metadata": {},
     "output_type": "execute_result"
    }
   ],
   "source": [
    "test_series['d']"
   ]
  },
  {
   "cell_type": "code",
   "execution_count": null,
   "id": "c8683d62",
   "metadata": {},
   "outputs": [],
   "source": []
  },
  {
   "cell_type": "code",
   "execution_count": null,
   "id": "b155883d",
   "metadata": {},
   "outputs": [],
   "source": []
  },
  {
   "cell_type": "code",
   "execution_count": null,
   "id": "223eeef5",
   "metadata": {},
   "outputs": [],
   "source": []
  },
  {
   "cell_type": "code",
   "execution_count": null,
   "id": "b61a44f3",
   "metadata": {},
   "outputs": [],
   "source": []
  },
  {
   "cell_type": "code",
   "execution_count": 7,
   "id": "6a983e8f",
   "metadata": {},
   "outputs": [
    {
     "name": "stdout",
     "output_type": "stream",
     "text": [
      "     ,vib line        wl\n",
      "0  0,v1-0   R1  4.649312\n",
      "1  1,v1-0   R0  4.657486\n"
     ]
    }
   ],
   "source": [
    "df = pd.read_csv('../data/COlines.csv', sep='\\t', usecols = [',vib','line','wl'])\n",
    "print(df.loc[[0, 1]])\n",
    "\n",
    "# create histogram\n",
    "#bin_edges = np.arange(0, df['y-axis'].max() + 1, 1)\n",
    "#fig = plt.hist(df['y-axis'], bins=bin_edges)\n",
    "\n",
    "# add plot labels\n",
    "#plt.xlabel('count')\n",
    "#plt.ylabel('y-axis')\n",
    "#plt.show()"
   ]
  },
  {
   "cell_type": "code",
   "execution_count": 19,
   "id": "773f085a",
   "metadata": {},
   "outputs": [],
   "source": [
    "# For plots inline in notebook\n",
    "%matplotlib inline \n",
    "\n",
    "# Import matplotlib\n",
    "import matplotlib.pyplot as plt\n",
    "\n",
    "# we will also need numpy\n",
    "import numpy as np"
   ]
  },
  {
   "cell_type": "code",
   "execution_count": null,
   "id": "8f14e204",
   "metadata": {},
   "outputs": [],
   "source": []
  }
 ],
 "metadata": {
  "kernelspec": {
   "display_name": "Python 3",
   "language": "python",
   "name": "python3"
  },
  "language_info": {
   "codemirror_mode": {
    "name": "ipython",
    "version": 3
   },
   "file_extension": ".py",
   "mimetype": "text/x-python",
   "name": "python",
   "nbconvert_exporter": "python",
   "pygments_lexer": "ipython3",
   "version": "3.12.1"
  }
 },
 "nbformat": 4,
 "nbformat_minor": 5
}
